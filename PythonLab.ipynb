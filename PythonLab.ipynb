{
  "nbformat": 4,
  "nbformat_minor": 0,
  "metadata": {
    "colab": {
      "name": "PythonLab.ipynb",
      "provenance": [],
      "authorship_tag": "ABX9TyNA+H71beqlGS5DeVH7nQzw",
      "include_colab_link": true
    },
    "kernelspec": {
      "name": "python3",
      "display_name": "Python 3"
    }
  },
  "cells": [
    {
      "cell_type": "markdown",
      "metadata": {
        "id": "view-in-github",
        "colab_type": "text"
      },
      "source": [
        "<a href=\"https://colab.research.google.com/github/tireless-22/4rthSemPythonLab/blob/main/PythonLab.ipynb\" target=\"_parent\"><img src=\"https://colab.research.google.com/assets/colab-badge.svg\" alt=\"Open In Colab\"/></a>"
      ]
    },
    {
      "cell_type": "markdown",
      "metadata": {
        "id": "y_XkQcuq_ehM"
      },
      "source": [
        "PYTHON PROGRAMMING LAB \n",
        "(19CT1106)"
      ]
    },
    {
      "cell_type": "markdown",
      "metadata": {
        "id": "M_HP1H7nApv_"
      },
      "source": [
        "K.NAVEEN KARTHIK REDDY \n",
        "(19131A0498)"
      ]
    },
    {
      "cell_type": "markdown",
      "metadata": {
        "id": "77ldDKJ2_5G8"
      },
      "source": [
        "LIST OF EXPERIMENTS:\n"
      ]
    },
    {
      "cell_type": "markdown",
      "metadata": {
        "id": "pw_k6UOkrAsV"
      },
      "source": [
        "#######################################################################################################"
      ]
    },
    {
      "cell_type": "markdown",
      "metadata": {
        "id": "4P7L6Slq__a_"
      },
      "source": [
        "WEEK1 Input and output\n"
      ]
    },
    {
      "cell_type": "markdown",
      "metadata": {
        "id": "FBhYrrIJAaoN"
      },
      "source": [
        "(a) Print the \"Python\" for 1, print \"Day - 1\" for 2. By changing the variable \"look\" for\n",
        "each statement\n"
      ]
    },
    {
      "cell_type": "code",
      "metadata": {
        "id": "NUx5pPIp_d4m",
        "colab": {
          "base_uri": "https://localhost:8080/"
        },
        "outputId": "51b1ff22-fd8d-4d5e-90a1-816794d10f6f"
      },
      "source": [
        "look=int(input(\"enter 0 or 1 only  \"))\n",
        "if (look==0):\n",
        "  print(\"Python\")\n",
        "elif(look==1):\n",
        "  print(\"Day-1\")\n",
        "else:\n",
        "  print(\"Wrong entry ! please enter o or 1 only\")    "
      ],
      "execution_count": null,
      "outputs": [
        {
          "output_type": "stream",
          "text": [
            "enter 0 or 1 only  1\n",
            "Day-1\n"
          ],
          "name": "stdout"
        }
      ]
    },
    {
      "cell_type": "markdown",
      "metadata": {
        "id": "p4Ap_v5_BjUg"
      },
      "source": [
        "(b)Create a variable \"number\" and assign an Integer to the number. Check the assigned\n",
        "Integer is \"Positive\" or \"Negative\".\n"
      ]
    },
    {
      "cell_type": "code",
      "metadata": {
        "id": "IYOJuMFUBm4S",
        "colab": {
          "base_uri": "https://localhost:8080/"
        },
        "outputId": "286f4d9c-b6aa-426a-9891-4f9b5ed6020b"
      },
      "source": [
        "# SOLUTION 1\n",
        "\n",
        "number=int(input(\"enter any number   \"))\n",
        "if(number>0):\n",
        "  print(\"Given number is possitive\")\n",
        "elif(number<0):\n",
        "  print(\"Given number is negative\")\n",
        "else:\n",
        "  print(\"Given number is neither possitive nor negative\")\n",
        "\n",
        "\n",
        "#SOLUTION 2 \n",
        "# ans=\"possitive\" if int(input(\"enter any number   \"))>0 else \"negative\"\n",
        "# print(ans)  "
      ],
      "execution_count": null,
      "outputs": [
        {
          "output_type": "stream",
          "text": [
            "enter any number   -7\n",
            "Given number is negative\n"
          ],
          "name": "stdout"
        }
      ]
    },
    {
      "cell_type": "markdown",
      "metadata": {
        "id": "2KMM0UATCnt4"
      },
      "source": [
        "(c) Write a program to find the largest element among three Numbers"
      ]
    },
    {
      "cell_type": "code",
      "metadata": {
        "id": "dSxwdHZOCrCq",
        "colab": {
          "base_uri": "https://localhost:8080/"
        },
        "outputId": "1f1573b4-ed23-4910-86d4-20465a4c4661"
      },
      "source": [
        "# solutions 1\n",
        "# a=int(input())\n",
        "# b=int(input())\n",
        "# c=int(input())\n",
        "# if a>b and a>c:\n",
        "#   print(a)\n",
        "# elif b>a and b>c:\n",
        "#   print(b)  \n",
        "# else:\n",
        "#   print(c)\n",
        "\n",
        "  \n",
        "# solution 2\n",
        "a,b,c=input().split()\n",
        "largestNumber=a if a>b and a>c else b if b>c else c\n",
        "print(largestNumber)"
      ],
      "execution_count": null,
      "outputs": [
        {
          "output_type": "stream",
          "text": [
            "5 1 4\n",
            "5\n"
          ],
          "name": "stdout"
        }
      ]
    },
    {
      "cell_type": "markdown",
      "metadata": {
        "id": "ZxGhE0DfFQM8"
      },
      "source": [
        "(d) Write a program to print the sum of all the even numbers in the range 1 - 50 and print\n",
        "the even sum.\n"
      ]
    },
    {
      "cell_type": "code",
      "metadata": {
        "id": "Ju5Qn9s4FVNo",
        "colab": {
          "base_uri": "https://localhost:8080/"
        },
        "outputId": "8fe16e76-7760-41e6-ce10-96d260130aa5"
      },
      "source": [
        "# solution 1\n",
        "# evenSum=0\n",
        "# for i in range(1,51):\n",
        "#   if (i%2==0):\n",
        "#     evenSum+=i\n",
        "# print(evenSum)\n",
        "\n",
        "#solution 2\n",
        "from functools import *\n",
        "print(reduce(lambda a,b:a+b,[x for x in range(1,51) if x%2==0]))"
      ],
      "execution_count": null,
      "outputs": [
        {
          "output_type": "stream",
          "text": [
            "650\n"
          ],
          "name": "stdout"
        }
      ]
    },
    {
      "cell_type": "markdown",
      "metadata": {
        "id": "7bqwcCDTGRoW"
      },
      "source": [
        "(e) Write a Program to display all prime numbers within an interval of 20 and 50.\n"
      ]
    },
    {
      "cell_type": "code",
      "metadata": {
        "id": "1UPDOHC1GWzl",
        "colab": {
          "base_uri": "https://localhost:8080/"
        },
        "outputId": "4ce1b287-5a0f-43f8-8801-b3d8e74ce8b7"
      },
      "source": [
        "from math import *\n",
        "def checkIfPrime(num):\n",
        "  \n",
        "  for i in range(2,int(sqrt(num))+1):\n",
        "    if num%i==0:\n",
        "      break\n",
        "  else:\n",
        "    print(num) \n",
        "for i in range(20,51):\n",
        "  checkIfPrime(i)\n",
        " "
      ],
      "execution_count": null,
      "outputs": [
        {
          "output_type": "stream",
          "text": [
            "23\n",
            "29\n",
            "31\n",
            "37\n",
            "41\n",
            "43\n",
            "47\n"
          ],
          "name": "stdout"
        }
      ]
    },
    {
      "cell_type": "markdown",
      "metadata": {
        "id": "WApLLQUGrMnQ"
      },
      "source": [
        "#######################################################################################################"
      ]
    },
    {
      "cell_type": "markdown",
      "metadata": {
        "id": "NIaadIbyJBEU"
      },
      "source": [
        "WEEK2 Variables and Functions"
      ]
    },
    {
      "cell_type": "markdown",
      "metadata": {
        "id": "MuiCqVAyJGCN"
      },
      "source": [
        "a. Write a program to swap two numbers without using a temporary variable.\n"
      ]
    },
    {
      "cell_type": "code",
      "metadata": {
        "id": "hDoTBfCAJLeq",
        "colab": {
          "base_uri": "https://localhost:8080/"
        },
        "outputId": "a5e19180-c3a7-463d-9333-eab176d2ecc8"
      },
      "source": [
        "a,b=input().split()\n",
        "print(\"before\")\n",
        "print(a,b)\n",
        "a,b=b,a\n",
        "print(\"after\")\n",
        "print(a,b)"
      ],
      "execution_count": null,
      "outputs": [
        {
          "output_type": "stream",
          "text": [
            "1 9\n",
            "before\n",
            "1 9\n",
            "after\n",
            "9 1\n"
          ],
          "name": "stdout"
        }
      ]
    },
    {
      "cell_type": "markdown",
      "metadata": {
        "id": "CTmMJMi-Jnn5"
      },
      "source": [
        "b. Write a program to define a function with multiple return values"
      ]
    },
    {
      "cell_type": "code",
      "metadata": {
        "id": "Q0Fk15WQJrb9",
        "colab": {
          "base_uri": "https://localhost:8080/"
        },
        "outputId": "962eeca5-0baa-4adb-db60-aa7674208c04"
      },
      "source": [
        "def add_sub(a,b):\n",
        "  sum=a+b\n",
        "  sub=a-b\n",
        "  return sum,sub\n",
        "sum,sub=add_sub(4,2)\n",
        "print(sum,sub)"
      ],
      "execution_count": null,
      "outputs": [
        {
          "output_type": "stream",
          "text": [
            "6 2\n"
          ],
          "name": "stdout"
        }
      ]
    },
    {
      "cell_type": "markdown",
      "metadata": {
        "id": "33OKAk5kv7Ak"
      },
      "source": [
        "c. Write a program which creates an adder given a value (Use only lambda).\n"
      ]
    },
    {
      "cell_type": "code",
      "metadata": {
        "id": "cq2eBVfpwDip",
        "colab": {
          "base_uri": "https://localhost:8080/"
        },
        "outputId": "228b44d1-403a-4192-8c6b-e8d42d068996"
      },
      "source": [
        "A = 0\n",
        "B = 1\n",
        "C = 1\n",
        "\n",
        "# half adder\n",
        "# sum=a xor b\n",
        "# carry=a and b\n",
        "\n",
        "# [int(x) for x in input().split()]\n",
        "# full adder \n",
        "# sum=a xor b xor c\n",
        "# carry=a and b+ c and(a xor b)\n",
        "\n",
        "\n",
        "half_adder_sum = lambda a, b : a ^ b\n",
        "half_adder_carry = lambda a, b : a & b\n",
        "full_adder_sum = lambda a, b, c : (a ^ b) ^ c\n",
        "full_adder_carry = lambda a, b, c : (a& b)+(c& (a ^b))\n",
        "\n",
        "\n",
        "print(half_adder_sum(A, B))\n",
        "print(half_adder_carry(A, B))\n",
        "print(full_adder_sum(A,B,C))\n",
        "print(full_adder_carry(A,B,C))"
      ],
      "execution_count": null,
      "outputs": [
        {
          "output_type": "stream",
          "text": [
            "1\n",
            "0\n",
            "0\n",
            "1\n"
          ],
          "name": "stdout"
        }
      ]
    },
    {
      "cell_type": "markdown",
      "metadata": {
        "id": "9o0uwztPw3gj"
      },
      "source": [
        "d. Write a program to define a function using default arguments."
      ]
    },
    {
      "cell_type": "code",
      "metadata": {
        "id": "ciZhCpILw7cv",
        "colab": {
          "base_uri": "https://localhost:8080/"
        },
        "outputId": "63bfc8d5-8515-46d6-cff5-ed495d266bef"
      },
      "source": [
        "def default_args(a=\"python\",b=\"lab\"):\n",
        "  print(a)\n",
        "  print(b)\n",
        "default_args()\n",
        "default_args(\"gvp\",\"vizag\")"
      ],
      "execution_count": null,
      "outputs": [
        {
          "output_type": "stream",
          "text": [
            "python\n",
            "lab\n",
            "gvp\n",
            "vizag\n"
          ],
          "name": "stdout"
        }
      ]
    },
    {
      "cell_type": "markdown",
      "metadata": {
        "id": "KNNwfXK9rOEx"
      },
      "source": [
        "#######################################################################################################"
      ]
    },
    {
      "cell_type": "markdown",
      "metadata": {
        "id": "N6joplE6xsmi"
      },
      "source": [
        "WEEK3 Loops and conditionals\n",
        "\n"
      ]
    },
    {
      "cell_type": "markdown",
      "metadata": {
        "id": "Y95612eex7i3"
      },
      "source": [
        "a. Write a program to print the following patterns using loop:\n",
        "*\n",
        "**\n",
        "***\n",
        "****"
      ]
    },
    {
      "cell_type": "code",
      "metadata": {
        "id": "QVsOTq9Rx-uB",
        "colab": {
          "base_uri": "https://localhost:8080/"
        },
        "outputId": "61aa220b-7fdc-4053-c021-52eff9406970"
      },
      "source": [
        "for i in range(1,5):\n",
        "  print(\"*\"*i)"
      ],
      "execution_count": null,
      "outputs": [
        {
          "output_type": "stream",
          "text": [
            "*\n",
            "**\n",
            "***\n",
            "****\n"
          ],
          "name": "stdout"
        }
      ]
    },
    {
      "cell_type": "markdown",
      "metadata": {
        "id": "XfXTxhhVyWnm"
      },
      "source": [
        "b. Write a program to print multiplication tables of 8, 15, 69.\n"
      ]
    },
    {
      "cell_type": "code",
      "metadata": {
        "id": "3sFRzQF_yYqm",
        "colab": {
          "base_uri": "https://localhost:8080/"
        },
        "outputId": "03e80a5f-2f12-41aa-ff78-9be6c1b06ec0"
      },
      "source": [
        "def tables(n,limit):\n",
        "  for i in range(1,limit+1):\n",
        "    print(n,\"✖\",i,\"=\",n*i)\n",
        "  print()  \n",
        "\n",
        "NoOfTimes=10\n",
        "tables(8,NoOfTimes)\n",
        "tables(15,NoOfTimes)\n",
        "tables(69,NoOfTimes)"
      ],
      "execution_count": null,
      "outputs": [
        {
          "output_type": "stream",
          "text": [
            "8 ✖ 1 = 8\n",
            "8 ✖ 2 = 16\n",
            "8 ✖ 3 = 24\n",
            "8 ✖ 4 = 32\n",
            "8 ✖ 5 = 40\n",
            "8 ✖ 6 = 48\n",
            "8 ✖ 7 = 56\n",
            "8 ✖ 8 = 64\n",
            "8 ✖ 9 = 72\n",
            "8 ✖ 10 = 80\n",
            "\n",
            "15 ✖ 1 = 15\n",
            "15 ✖ 2 = 30\n",
            "15 ✖ 3 = 45\n",
            "15 ✖ 4 = 60\n",
            "15 ✖ 5 = 75\n",
            "15 ✖ 6 = 90\n",
            "15 ✖ 7 = 105\n",
            "15 ✖ 8 = 120\n",
            "15 ✖ 9 = 135\n",
            "15 ✖ 10 = 150\n",
            "\n",
            "69 ✖ 1 = 69\n",
            "69 ✖ 2 = 138\n",
            "69 ✖ 3 = 207\n",
            "69 ✖ 4 = 276\n",
            "69 ✖ 5 = 345\n",
            "69 ✖ 6 = 414\n",
            "69 ✖ 7 = 483\n",
            "69 ✖ 8 = 552\n",
            "69 ✖ 9 = 621\n",
            "69 ✖ 10 = 690\n",
            "\n"
          ],
          "name": "stdout"
        }
      ]
    },
    {
      "cell_type": "markdown",
      "metadata": {
        "id": "u_W4CiGnrPvA"
      },
      "source": [
        "#######################################################################################################"
      ]
    },
    {
      "cell_type": "markdown",
      "metadata": {
        "id": "PIDYA_ke23vR"
      },
      "source": [
        "WEEK4 Strings"
      ]
    },
    {
      "cell_type": "markdown",
      "metadata": {
        "id": "PHnZb4zc28XY"
      },
      "source": [
        "a. Write a program to find the length of the string without using any library functions\n"
      ]
    },
    {
      "cell_type": "code",
      "metadata": {
        "id": "sb3kg6TvH4lU",
        "colab": {
          "base_uri": "https://localhost:8080/"
        },
        "outputId": "9773856b-30ed-4f0d-dd6c-01e4766407a5"
      },
      "source": [
        "def length(string):\n",
        "  length=0\n",
        "  for i in string:\n",
        "    length+=1\n",
        "  print(length)\n",
        "\n",
        "length(\"GVPCE\")    "
      ],
      "execution_count": null,
      "outputs": [
        {
          "output_type": "stream",
          "text": [
            "5\n"
          ],
          "name": "stdout"
        }
      ]
    },
    {
      "cell_type": "markdown",
      "metadata": {
        "id": "AYEagast28aE"
      },
      "source": [
        "b. Write a program to check if two strings are anagrams or not.\n"
      ]
    },
    {
      "cell_type": "code",
      "metadata": {
        "id": "atr52KOp3D6v",
        "colab": {
          "base_uri": "https://localhost:8080/"
        },
        "outputId": "0e6a8c6f-d2b5-408c-ae53-14cdc28c0004"
      },
      "source": [
        "def anagram(s1,s2):\n",
        "  s1=sorted(s1.lower())\n",
        "  s2=sorted(s2.lower())\n",
        "  l1=[]\n",
        "  l2=[]\n",
        "  for i in s1:\n",
        "    if i!=\" \":\n",
        "      l1.append(i)\n",
        "  for i in s2:\n",
        "    if i!=\" \":\n",
        "      l2.append(i)  \n",
        "  return l1==l2      \n",
        "  \n",
        "a=input()\n",
        "b=input()\n",
        "print(anagram(a,b))"
      ],
      "execution_count": null,
      "outputs": [
        {
          "output_type": "stream",
          "text": [
            "hlj\n",
            "lbkjbn\n",
            "False\n"
          ],
          "name": "stdout"
        }
      ]
    },
    {
      "cell_type": "markdown",
      "metadata": {
        "id": "9wB_-JirA8yu"
      },
      "source": [
        "c. Write a program to check if the substring is present in a given string or not. (use regular\n",
        "expressions)"
      ]
    },
    {
      "cell_type": "code",
      "metadata": {
        "id": "gZKYnIF5kzoG",
        "colab": {
          "base_uri": "https://localhost:8080/"
        },
        "outputId": "c2035a38-852f-4dd4-bb8d-0e3b0256997d"
      },
      "source": [
        "# import re\n",
        "\n",
        "# Str = input(\"enter the string   \")\n",
        "# subStr=input(\"enter the substring   \")\n",
        "# x = re.findall(subStr, Str)\n",
        "# if(len(x)!=0):\n",
        "#   print(\"substring is present in a given string \")\n",
        "# else:\n",
        "#   print(\"not here\")    \n",
        "\n",
        "\n",
        "strr = input(\"enter the string   \")\n",
        "subStr=input(\"enter the substring   \")\n",
        "if (strr.count(subStr)==0):\n",
        "  print(\"not here\")\n",
        "else:\n",
        "  print(\"present\")  \n",
        "\n"
      ],
      "execution_count": null,
      "outputs": [
        {
          "output_type": "stream",
          "text": [
            "enter the string   hello this is\n",
            "enter the substring   is\n",
            "present\n"
          ],
          "name": "stdout"
        }
      ]
    },
    {
      "cell_type": "markdown",
      "metadata": {
        "id": "A84vmL9zrRE7"
      },
      "source": [
        "#######################################################################################################"
      ]
    },
    {
      "cell_type": "markdown",
      "metadata": {
        "id": "ItRDfXypXocK"
      },
      "source": [
        "WEEK5 lists"
      ]
    },
    {
      "cell_type": "markdown",
      "metadata": {
        "id": "XdoFXB9hXg-5"
      },
      "source": [
        "a. Write a program to perform the given operations on a list:\n",
        "i. add ii. insert iii. slicing\n"
      ]
    },
    {
      "cell_type": "code",
      "metadata": {
        "id": "ZR5r_IJCA__f",
        "colab": {
          "base_uri": "https://localhost:8080/"
        },
        "outputId": "c7a7d741-3913-498c-de48-ec4034b76ea4"
      },
      "source": [
        "def add(listt,value):\n",
        "  listt.append(value)\n",
        "  print(listt)\n",
        "\n",
        "def insert(listt,indexNumber,value):\n",
        "  listt[indexNumber]=value\n",
        "  print(listt)\n",
        "\n",
        "def slicing(listt,startingIndex,endingIndex):\n",
        "\n",
        "  slicedList=listt[startingIndex:endingIndex:]\n",
        "  print(slicedList)\n",
        "\n",
        "listt=[2,3,2,3,43,4]\n",
        "\n",
        "\n",
        "slicing(listt,3,6)\n",
        "\n",
        "insert(listt,4,3333)\n",
        "add(listt,444)\n",
        "\n"
      ],
      "execution_count": null,
      "outputs": [
        {
          "output_type": "stream",
          "text": [
            "[3, 43, 4]\n",
            "[2, 3, 2, 3, 3333, 4]\n",
            "[2, 3, 2, 3, 3333, 4, 444]\n"
          ],
          "name": "stdout"
        }
      ]
    },
    {
      "cell_type": "markdown",
      "metadata": {
        "id": "wbVQLfuCaB9p"
      },
      "source": [
        "b. Write a program to perform any 5 built-in functions by taking any list"
      ]
    },
    {
      "cell_type": "code",
      "metadata": {
        "colab": {
          "base_uri": "https://localhost:8080/"
        },
        "id": "SynF-VePpiQT",
        "outputId": "f5b98d63-73e6-477b-bd5e-ac55f6c2c394"
      },
      "source": [
        "l=[2,5,4,5,3,2,8]\n",
        "print(\"maximum number is : \",max(l))\n",
        "print(\"minimum number is : \",min(l))\n",
        "print(\"added 333 to the given list : \",l.append(333))\n",
        "print(\"deleted 333 from the given list : \",l.pop())\n",
        "# pop will delete the last element added to the list\n",
        "print(\"sorted list :  \",l.sort())"
      ],
      "execution_count": null,
      "outputs": [
        {
          "output_type": "stream",
          "text": [
            "maximum number is :  8\n",
            "minimum number is :  2\n",
            "added 333 to the given list :  None\n",
            "deleted 333 from the given list :  333\n",
            "sorted list :   None\n"
          ],
          "name": "stdout"
        }
      ]
    },
    {
      "cell_type": "markdown",
      "metadata": {
        "id": "gWqZB_9dcU9B"
      },
      "source": [
        "c. Write a program to get a list of the even numbers from a given list of numbers.(use\n",
        "only comprehensions)\n"
      ]
    },
    {
      "cell_type": "code",
      "metadata": {
        "id": "mORKGRIHcCsp",
        "colab": {
          "base_uri": "https://localhost:8080/"
        },
        "outputId": "fef3711e-6e98-4321-d10c-338002a14db1"
      },
      "source": [
        "l=eval(input())\n",
        "l=[x for x in l if int(x)%2==0 ]\n",
        "print(l)\n",
        "# [2,5,4,5,3,2,8]"
      ],
      "execution_count": null,
      "outputs": [
        {
          "output_type": "stream",
          "text": [
            "[2,5,4,5,3,2,8]\n",
            "[2, 4, 2, 8]\n"
          ],
          "name": "stdout"
        }
      ]
    },
    {
      "cell_type": "code",
      "metadata": {
        "colab": {
          "base_uri": "https://localhost:8080/"
        },
        "id": "_s4GBv9cHaOP",
        "outputId": "74d79d4b-fb74-46aa-e5d5-d37f24483de0"
      },
      "source": [
        "a=list(map(int,input('enter a list').split()))\n",
        "b=list(map(int,input('enter a list').split()))\n",
        "c=list(map(int,input('enter a list').split()))\n",
        "\n",
        "\n",
        "d=[a,b,c]\n",
        "e=[len(a),len(b),len(c)]\n",
        "n=max(e)\n",
        "for j in range(0,n):\n",
        "  for i in range(0,len(d)):\n",
        "      if(len(d[i])>j):\n",
        "          print(d[i][j],end=\" \")\n"
      ],
      "execution_count": null,
      "outputs": [
        {
          "output_type": "stream",
          "text": [
            "enter a list33 53 234 2523 234\n",
            "enter a list234 5234 2425\n",
            "enter a list242 242 53\n",
            "33 234 242 53 5234 242 234 2425 53 2523 234 "
          ],
          "name": "stdout"
        }
      ]
    },
    {
      "cell_type": "markdown",
      "metadata": {
        "id": "U3Otfl8IrS5A"
      },
      "source": [
        "#######################################################################################################"
      ]
    },
    {
      "cell_type": "markdown",
      "metadata": {
        "id": "k-5h2B9CsdXq"
      },
      "source": [
        "WEEK6 TUPLES"
      ]
    },
    {
      "cell_type": "markdown",
      "metadata": {
        "id": "UfknAjuvsqos"
      },
      "source": [
        "a. Write a program to create tuples (name, age, address, college) for at least two \n",
        "members and concatenate the tuples and print the concatenate tuples"
      ]
    },
    {
      "cell_type": "code",
      "metadata": {
        "id": "7wv8Mf0isjZU",
        "colab": {
          "base_uri": "https://localhost:8080/"
        },
        "outputId": "57ec4c50-2f3d-4ffe-c50f-4fe28ad04246"
      },
      "source": [
        "t=()\n",
        "for i in range(int(input(\"enter the no of students      \"))):\n",
        "  name=input()\n",
        "  age=int(input())\n",
        "  ad=input()\n",
        "  clg=input()\n",
        "  t1=name,age,ad,clg\n",
        "  t+=t1\n",
        "print(t)\n"
      ],
      "execution_count": null,
      "outputs": [
        {
          "output_type": "stream",
          "text": [
            "enter the no of students      2\n",
            "df\n",
            "23\n",
            "sdf\n",
            "sd\n",
            "asdf\n",
            "34\n",
            "sdf\n",
            "asdf\n",
            "('df', 23, 'sdf', 'sd', 'asdf', 34, 'sdf', 'asdf')\n"
          ],
          "name": "stdout"
        }
      ]
    },
    {
      "cell_type": "markdown",
      "metadata": {
        "id": "QfJYuUEDssEY"
      },
      "source": [
        "b. Write a program to return the top 'n' most frequently occurring chars and their respectivecounts.\n",
        "e.g. aaaaaabbbbcccc,  should return [(a 6) (b 4)]"
      ]
    },
    {
      "cell_type": "code",
      "metadata": {
        "colab": {
          "base_uri": "https://localhost:8080/"
        },
        "id": "jOfFNtR8sB3K",
        "outputId": "afadc9be-d66b-441d-80d2-f4afa2cd9657"
      },
      "source": [
        "# strn=input()\n",
        "\n",
        "# solution 1 using tuples \n",
        "\n",
        "# temp=strn[0]\n",
        "# count=0\n",
        "# l=[]\n",
        "# for i in range(len(strn)):\n",
        "#   if strn[i]==temp:\n",
        "#     count+=1\n",
        "#     temp=strn[i]\n",
        "#   else:\n",
        "#     l.append((temp,count))\n",
        "#     count=0\n",
        "#     temp=strn[i]\n",
        "#     count+=1\n",
        "#   if (i==len(strn)-1):\n",
        "#     l.append((temp,count))    \n",
        "# print(l)\n",
        "\n",
        "\n",
        "\n",
        "# # solution 2 using dictionary \n",
        "\n",
        "\n",
        "# dictt={}\n",
        "# for x in strn:\n",
        "#   if x in dictt.keys():\n",
        "#     dictt[x]+=1\n",
        "#   else:\n",
        "#     dictt[x]=1 \n",
        "# print(dictt)    \n",
        "\n",
        "\n",
        "\n",
        "\n",
        "# solution 3 using list\n",
        "# strn=\"aaaabbbcccccaaaaabbbcccca\"\n",
        "# n=2\n",
        "\n",
        "\n",
        "strn=input(\"enter the string\")\n",
        "n=int(input(\"enter the number of values\"))\n",
        "l,l1 = [],[]\n",
        "for i in strn:\n",
        "  if(i==\" \"):\n",
        "      continue\n",
        "  flag = False\n",
        "  for x in range(len(l)):\n",
        "    if i in l[x][0]:\n",
        "      l[x][1] += 1\n",
        "      flag = True\n",
        "  if not flag:\n",
        "    l.append([i,1])\n",
        "    flag = False\n",
        "l1=sorted(l,key=lambda x:x[1],reverse=True)\n",
        "tup = []\n",
        "for i in range(n):\n",
        "  tup.append((l1[i][0],l1[i][1]))\n",
        "print(tup)"
      ],
      "execution_count": null,
      "outputs": [
        {
          "output_type": "stream",
          "text": [
            "enter the stringnaveen karthik reddy\n",
            "enter the number of values5\n",
            "[('e', 3), ('n', 2), ('a', 2), ('k', 2), ('r', 2)]\n"
          ],
          "name": "stdout"
        }
      ]
    },
    {
      "cell_type": "markdown",
      "metadata": {
        "id": "TKYSqo68rUjM"
      },
      "source": [
        "#######################################################################################################"
      ]
    },
    {
      "cell_type": "markdown",
      "metadata": {
        "id": "MTwHHxomttcc"
      },
      "source": [
        "WEEK7 SETS"
      ]
    },
    {
      "cell_type": "markdown",
      "metadata": {
        "id": "LJJlJ3fHtvi2"
      },
      "source": [
        "a. Write a program to count the number of vowels in a string (No control flow allowed).\n"
      ]
    },
    {
      "cell_type": "code",
      "metadata": {
        "id": "zLtdtzlBt87u",
        "colab": {
          "base_uri": "https://localhost:8080/"
        },
        "outputId": "1c9709cf-32ea-434f-f418-d637f27adc69"
      },
      "source": [
        "strn = input()\n",
        "result = len(list(filter(lambda x: x,list(map(lambda a: a in ['a','A','e','E','i','I','o','O','u','U'],list(strn))))))\n",
        "print(result)\n",
        "# \"Words are thought of as the smallest meaningful unit of speech\""
      ],
      "execution_count": null,
      "outputs": [
        {
          "output_type": "stream",
          "text": [
            "this is python lab\n",
            "4\n"
          ],
          "name": "stdout"
        }
      ]
    },
    {
      "cell_type": "markdown",
      "metadata": {
        "id": "ey0s59oft9Sr"
      },
      "source": [
        "b. Write a program that displays which letters are present in both strings.\n"
      ]
    },
    {
      "cell_type": "code",
      "metadata": {
        "id": "GmWqu0L0uBZc",
        "colab": {
          "base_uri": "https://localhost:8080/"
        },
        "outputId": "622d01b9-a061-4566-a039-878859b128d8"
      },
      "source": [
        "s1=input()\n",
        "s2=input()\n",
        "s=set()\n",
        "for i in s1:\n",
        "  if (i in s2 and i!=\" \"):\n",
        "    s.add(i)\n",
        "print(s)\n",
        "\n",
        "# \"sample text\"\n",
        "# \"Words are thought of as the smallest meaningful unit of speech\""
      ],
      "execution_count": null,
      "outputs": [
        {
          "output_type": "stream",
          "text": [
            "\"sample text\"\n",
            "\"Words are thought of as the smallest meaningful unit of speech\"\n",
            "{'p', 'l', 'm', 's', 'a', '\"', 't', 'e'}\n"
          ],
          "name": "stdout"
        }
      ]
    },
    {
      "cell_type": "markdown",
      "metadata": {
        "id": "qV6jIpStuCUN"
      },
      "source": [
        "c. Write a program to sort given list of strings in the order of their vowel counts."
      ]
    },
    {
      "cell_type": "code",
      "metadata": {
        "id": "eVjp9FpIuFIS",
        "colab": {
          "base_uri": "https://localhost:8080/"
        },
        "outputId": "71b0b554-4e22-487c-9c61-99bf0303d772"
      },
      "source": [
        "l=eval(input())\n",
        "list_vowels=['a','A','e','E','i','I','o','O','u','U']\n",
        "def noOfVowels(x):\n",
        "  count=0\n",
        "  for i in x:\n",
        "    if(i in list_vowels ):\n",
        "      count+=1\n",
        "  return count      \n",
        "\n",
        "l=sorted(l,key=noOfVowels)\n",
        "print(l)\n",
        "\n",
        "# [\"Words\", \"are\", \"thought\", \"of\", \"as\", \"the\" ,\"smallest\" ,\"meaningful\"]\n"
      ],
      "execution_count": null,
      "outputs": [
        {
          "output_type": "stream",
          "text": [
            "[\"Words\", \"are\", \"thought\", \"of\", \"as\", \"the\" ,\"smallest\" ,\"meaningful\"]\n",
            "['Words', 'of', 'as', 'the', 'are', 'thought', 'smallest', 'meaningful']\n"
          ],
          "name": "stdout"
        }
      ]
    },
    {
      "cell_type": "markdown",
      "metadata": {
        "id": "f9qXwu60rWDz"
      },
      "source": [
        "#######################################################################################################"
      ]
    },
    {
      "cell_type": "markdown",
      "metadata": {
        "id": "hNopHVX-uFlI"
      },
      "source": [
        "WEEK8 DICTIONARIES\n"
      ]
    },
    {
      "cell_type": "markdown",
      "metadata": {
        "id": "HwLBueSTuL6L"
      },
      "source": [
        "a. Write a program to generate a dictionary that contains numbers (between 1 and n ) \n",
        "in the form of (x, x*x).\n"
      ]
    },
    {
      "cell_type": "code",
      "metadata": {
        "id": "NrJK4NztuPmX",
        "colab": {
          "base_uri": "https://localhost:8080/"
        },
        "outputId": "93659346-5faf-4eac-df1a-03272c9fd94e"
      },
      "source": [
        "dicc={}\n",
        "for i in range(1,int(input(\"enter the value of n\"))+1):\n",
        "  dicc[i]=i*i\n",
        "print(dicc)"
      ],
      "execution_count": null,
      "outputs": [
        {
          "output_type": "stream",
          "text": [
            "enter the value of n5\n",
            "{1: 1, 2: 4, 3: 9, 4: 16, 5: 25}\n"
          ],
          "name": "stdout"
        }
      ]
    },
    {
      "cell_type": "markdown",
      "metadata": {
        "id": "TkozOg0CuQSW"
      },
      "source": [
        "b. Write a program to check if a given key exists in a dictionary or not.\n"
      ]
    },
    {
      "cell_type": "code",
      "metadata": {
        "id": "GfHhV0O4uS9L",
        "colab": {
          "base_uri": "https://localhost:8080/"
        },
        "outputId": "02e9bdfb-cf88-464e-9d3d-6f2df9b13cd6"
      },
      "source": [
        "dicc={1: 1, 2: 4, 3: 9, 4: 16, 5: 25}\n",
        "keyy=int(input(\"enter the value of key    \"))\n",
        "if keyy in dicc.keys():\n",
        "  print(\"ss\")\n",
        "else:\n",
        "  print(\"no\")  \n"
      ],
      "execution_count": null,
      "outputs": [
        {
          "output_type": "stream",
          "text": [
            "enter the value of key    8\n",
            "no\n"
          ],
          "name": "stdout"
        }
      ]
    },
    {
      "cell_type": "markdown",
      "metadata": {
        "id": "RHeUXyHMuTa3"
      },
      "source": [
        "c. Write a program to add a new key-value pair to an existing dictionary."
      ]
    },
    {
      "cell_type": "code",
      "metadata": {
        "id": "JlWyxShguWR1",
        "colab": {
          "base_uri": "https://localhost:8080/"
        },
        "outputId": "dff3f3bb-e38c-40fc-f2ca-7aa192447a61"
      },
      "source": [
        "dicc={1: 1, 2: 4, 3: 9, 4: 16, 5: 25}\n",
        "keyy=int(input(\"enter the new key    \"))\n",
        "valuee=int(input(\"enter the new value   \"))\n",
        "dicc[keyy]=valuee\n",
        "print(dicc)\n"
      ],
      "execution_count": null,
      "outputs": [
        {
          "output_type": "stream",
          "text": [
            "enter the new key    55\n",
            "enter the new value   5555\n",
            "{1: 1, 2: 4, 3: 9, 4: 16, 5: 25, 55: 5555}\n"
          ],
          "name": "stdout"
        }
      ]
    },
    {
      "cell_type": "markdown",
      "metadata": {
        "id": "mLYdA_LEuYby"
      },
      "source": [
        "d. Write a program to sum all the items in a given dictionary"
      ]
    },
    {
      "cell_type": "code",
      "metadata": {
        "id": "Hnc9WxYNuZbK",
        "colab": {
          "base_uri": "https://localhost:8080/"
        },
        "outputId": "8da142f9-d1f1-4373-a3f7-e7d0add598eb"
      },
      "source": [
        "# dicc={1: 1, 2: 4, 3: 9, 4: 16, 5: 25}\n",
        "dicc={}\n",
        "for i in range(int(input(\"No of values\"))):\n",
        "  keyy=int(input(\"enter the key\"))\n",
        "  valuee=int(input(\"enter the values\"))\n",
        "  dicc[keyy]=valuee\n",
        "\n",
        "\n",
        "print(\"sum of keys \",sum(dicc.keys()))\n",
        "print(\"sum of values \",sum(dicc.values()))"
      ],
      "execution_count": null,
      "outputs": [
        {
          "output_type": "stream",
          "text": [
            "No of values3\n",
            "enter the key1\n",
            "enter the values1\n",
            "enter the key2\n",
            "enter the values4\n",
            "enter the key3\n",
            "enter the values9\n",
            "sum of keys  6\n",
            "sum of values  14\n"
          ],
          "name": "stdout"
        }
      ]
    },
    {
      "cell_type": "markdown",
      "metadata": {
        "id": "weJaQGXIrZML"
      },
      "source": [
        "#######################################################################################################"
      ]
    },
    {
      "cell_type": "markdown",
      "metadata": {
        "id": "sBgRicGoujWl"
      },
      "source": [
        "WEEK9 FILES\n"
      ]
    },
    {
      "cell_type": "markdown",
      "metadata": {
        "id": "XrTytGkRunBo"
      },
      "source": [
        "a. Write a program to sort words in a file and put them in another file. The output file \n",
        "should have only lower case words, so any upper case words from source must be \n",
        "lowered. (Handle exceptions)"
      ]
    },
    {
      "cell_type": "code",
      "metadata": {
        "id": "Sm124eeuumsL"
      },
      "source": [
        "# this code is not for collab or jupyter notebook\n",
        "# to execute this code ,follow the given steps\n",
        "\n",
        "# step1: create a directory \n",
        "# step2: create python file in that directory\n",
        "# step3:create 2 text files named \"a.txt\" and \"b.txt\" in the same directory\n",
        "# step4:fill the \"a.txt\" will some sample lines\n",
        "# step5:run the python file\n",
        "\n",
        "f=open(\"a.txt\",\"r\")\n",
        "lines=f.readlines()\n",
        "l=[]\n",
        "lll=[]\n",
        "for line in lines:\n",
        "    ll=line.split(\" \")\n",
        "    for i in ll:\n",
        "        l.append(i)\n",
        "l.sort()\n",
        "for i in l:\n",
        "    lll.append(i.lower())    \n",
        "print(lll)\n",
        "f1=open(\"b.txt\",\"w\")\n",
        "s=\" \"\n",
        "s=\" \".join(lll)\n",
        "f1.write(s)"
      ],
      "execution_count": null,
      "outputs": []
    },
    {
      "cell_type": "markdown",
      "metadata": {
        "id": "VM86EnaFuqQa"
      },
      "source": [
        "b. Write a program to find the most frequent words in a text.(read from a text file)"
      ]
    },
    {
      "cell_type": "code",
      "metadata": {
        "id": "l0Loe6OGusNL"
      },
      "source": [
        "# this code is not for collab or jupyter notebook\n",
        "# this code is to run in the local machines\n",
        "\n",
        "# to execute this code ,follow the given steps\n",
        "\n",
        "# step1: create a directory \n",
        "# step2: create python file in that directory\n",
        "# step3:create 1 text files named \"a.txt\"  in the same directory\n",
        "# step4:fill the \"a.txt\" will some sample lines\n",
        "# step5:run the python file\n",
        "\n",
        "\n",
        "f=open(\"a.txt\",\"r\")\n",
        "lines=f.readlines()\n",
        "l=[]\n",
        "for line in lines:\n",
        "    ll=line.split(\" \")\n",
        "    for i in ll:\n",
        "        l.append(i)\n",
        "temp=[]\n",
        "l.sort()\n",
        "print(l)\n",
        "count=1\n",
        "requiredWord=\"\"\n",
        "highestCount=1\n",
        "for i in l:\n",
        "    if i in temp:\n",
        "        count+=1\n",
        "        if(count>highestCount):\n",
        "            highestCount=count\n",
        "            print(highestCount)\n",
        "            requiredWord=i\n",
        "    else:\n",
        "        temp.append(i)\n",
        "        count=1\n",
        "print(requiredWord,\" ==>repeated for \",highestCount,\" times\")        "
      ],
      "execution_count": null,
      "outputs": []
    },
    {
      "cell_type": "markdown",
      "metadata": {
        "id": "2qJ9l-d4rasN"
      },
      "source": [
        "#######################################################################################################"
      ]
    },
    {
      "cell_type": "markdown",
      "metadata": {
        "id": "8gOm8gnUutQ0"
      },
      "source": [
        "WEEK 10 CLASSES"
      ]
    },
    {
      "cell_type": "markdown",
      "metadata": {
        "id": "65OqPoSbu4ti"
      },
      "source": [
        "a. Write a Python class named Person with attributes name, age, weight (kgs), height \n",
        "(ft) and takes them through the constructor and exposes a method get_bmi_result() \n",
        "which returns one of \"underweight\", \"healthy\", \"obese\"."
      ]
    },
    {
      "cell_type": "code",
      "metadata": {
        "id": "5jz_XPn2uzl8",
        "colab": {
          "base_uri": "https://localhost:8080/"
        },
        "outputId": "6e35c12e-613b-4880-e375-808b6ff295b4"
      },
      "source": [
        "class Person:\n",
        "  def __init__(self, name, age,weight,height):\n",
        "    self.name = name\n",
        "    self.age = age\n",
        "    self.weight=weight\n",
        "    self.height=height\n",
        "  def get_bmi_result(self):\n",
        "    BMI=self.weight/(self.height*self.height)    \n",
        "    if BMI>25:\n",
        "      print(\"obese\")\n",
        "    elif BMI>18.5:\n",
        "      print(\"healthy\") \n",
        "    else:\n",
        "      print(\"underweight\") \n",
        "     \n",
        "p1 = Person(\"underweight\", 19,45,1.56)\n",
        "p2 = Person(\"healthy\", 19,65,1.8)\n",
        "p3 = Person(\"obese\", 19,65,1.56)\n",
        "p1.get_bmi_result()\n",
        "p2.get_bmi_result()\n",
        "p3.get_bmi_result()"
      ],
      "execution_count": null,
      "outputs": [
        {
          "output_type": "stream",
          "text": [
            "underweight\n",
            "healthy\n",
            "obese\n"
          ],
          "name": "stdout"
        }
      ]
    },
    {
      "cell_type": "markdown",
      "metadata": {
        "id": "I887SHXLuz4b"
      },
      "source": [
        "b. Write a Python class named Circle constructed by a radius and two methods which \n",
        "will compute the area and the perimeter of a circle."
      ]
    },
    {
      "cell_type": "code",
      "metadata": {
        "id": "ZEkZnX8Ru2g9",
        "colab": {
          "base_uri": "https://localhost:8080/"
        },
        "outputId": "e99fdc67-6437-4af3-dc2c-6ea8e626e6d1"
      },
      "source": [
        "class Circle:\n",
        "  def __init__(self,radius):\n",
        "    self.radius =radius\n",
        "    \n",
        "  def area(self):\n",
        "    print(\"Area of the given circle of radius  \",self.radius,\"  :\",3.14*self.radius*self.radius)\n",
        "\n",
        "  def perimeter(self):\n",
        "    print(\"Perimeter of the given circle of radius  \",self.radius,\"  :\",2*3.14*self.radius)   \n",
        "c1=Circle(5)\n",
        "c1.area()   \n",
        "c1.perimeter()  \n",
        "\n",
        "c2=Circle(15)\n",
        "c2.area()   \n",
        "c2.perimeter()  \n"
      ],
      "execution_count": null,
      "outputs": [
        {
          "output_type": "stream",
          "text": [
            "Area of the given circle of radius   5   : 78.5\n",
            "Perimeter of the given circle of radius   5   : 31.400000000000002\n",
            "Area of the given circle of radius   15   : 706.5\n",
            "Perimeter of the given circle of radius   15   : 94.2\n"
          ],
          "name": "stdout"
        }
      ]
    },
    {
      "cell_type": "markdown",
      "metadata": {
        "id": "PDSsq9fLrcT-"
      },
      "source": [
        "#######################################################################################################"
      ]
    },
    {
      "cell_type": "markdown",
      "metadata": {
        "id": "jOk6xFUyT1MK"
      },
      "source": [
        "NUMPY\n"
      ]
    },
    {
      "cell_type": "code",
      "metadata": {
        "colab": {
          "base_uri": "https://localhost:8080/"
        },
        "id": "p-t36f0gKwba",
        "outputId": "13737586-17ec-4b04-d5e9-8a63a6fab50d"
      },
      "source": [
        "# use this commmand ,if it is not installed in your environment \n",
        "# for checking if it is installed or not , use (pip list) \n",
        "# if it is available you can see the name (numpy 1.21.0(some number)) the version is not at all important\n",
        "# (pip install numpy)\n",
        "import numpy as np\n",
        "# creation of 1d array\n",
        "arr1=np.array((1,3,43,4,53,3))\n",
        "# creation of 2d arrays\n",
        "arr2=np.array([[1,2,3],[4,5,6],[7,8,9]])\n",
        "\n",
        "print(\"printed 1d array\",\"\\n\",arr1)\n",
        "print(\"printed 2d array\",\"\\n\",arr2)\n",
        "\n",
        "# accessing of 1d array\n",
        "print(arr1[2])\n",
        "\n",
        "# accessing of 2d arrays\n",
        "print(arr2[2][2])\n",
        "print(arr2[2, 2])\n",
        "\n"
      ],
      "execution_count": null,
      "outputs": [
        {
          "output_type": "stream",
          "text": [
            "printed 1d array \n",
            " [ 1  3 43  4 53  3]\n",
            "printed 2d array \n",
            " [[1 2 3]\n",
            " [4 5 6]\n",
            " [7 8 9]]\n",
            "43\n",
            "9\n",
            "9\n"
          ],
          "name": "stdout"
        }
      ]
    },
    {
      "cell_type": "code",
      "metadata": {
        "colab": {
          "base_uri": "https://localhost:8080/"
        },
        "id": "21Nz6gdET6nv",
        "outputId": "e3d740ec-7af9-433d-9804-3c7d30794255"
      },
      "source": [
        "import numpy as np\n",
        "\n",
        "arr1=np.array((1,3,43,4,53,3))\n",
        "np.append(arr1,5)\n",
        "np.insert(arr,3,32) \n",
        "# print(\"given list\",l)\n",
        "# l.append(444)\n",
        "# print(\"after appending\",l)\n",
        "# l.insert(3,555)\n",
        "# print(\"after inserion\",l)\n",
        "# ll=l[::-1]\n",
        "# print(\"after reversal\",ll)"
      ],
      "execution_count": null,
      "outputs": [
        {
          "output_type": "execute_result",
          "data": {
            "text/plain": [
              "array([ 1,  3, 43, 32,  4, 53,  3])"
            ]
          },
          "metadata": {
            "tags": []
          },
          "execution_count": 34
        }
      ]
    },
    {
      "cell_type": "markdown",
      "metadata": {
        "id": "Zr_CXS2mvDJC"
      },
      "source": [
        "WEEK 11 ARRAYS"
      ]
    },
    {
      "cell_type": "markdown",
      "metadata": {
        "id": "15eLytrTvHhU"
      },
      "source": [
        "a. Write a program to create, display, append, insert and reverse the order of the items in the array"
      ]
    },
    {
      "cell_type": "code",
      "metadata": {
        "id": "wyr7izF8vJm-",
        "colab": {
          "base_uri": "https://localhost:8080/"
        },
        "outputId": "b8493e3e-7245-481b-813c-7b0eafcb7e44"
      },
      "source": [
        "l=[2,32,423,233,4323,34532]\n",
        "print(\"given list\",l)\n",
        "l.append(444)\n",
        "print(\"after appending\",l)\n",
        "l.insert(3,555)\n",
        "print(\"after inserion\",l)\n",
        "ll=l[::-1]\n",
        "print(\"after reversal\",ll)"
      ],
      "execution_count": null,
      "outputs": [
        {
          "output_type": "stream",
          "text": [
            "given list [2, 32, 423, 233, 4323, 34532]\n",
            "after appending [2, 32, 423, 233, 4323, 34532, 444]\n",
            "after inserion [2, 32, 423, 555, 233, 4323, 34532, 444]\n",
            "after reversal [444, 34532, 4323, 233, 555, 423, 32, 2]\n"
          ],
          "name": "stdout"
        }
      ]
    },
    {
      "cell_type": "markdown",
      "metadata": {
        "id": "jdSkZl52vJ-Q"
      },
      "source": [
        "b. Write a program to add, transpose and multiply two matrices.\n"
      ]
    },
    {
      "cell_type": "code",
      "metadata": {
        "id": "bgEYn-5evNeJ",
        "colab": {
          "base_uri": "https://localhost:8080/"
        },
        "outputId": "89dd79a0-6544-4fd7-f9c0-9ca6907b5e70"
      },
      "source": [
        "l1=[[1,4,2],[5,6,8],[10,2,3]]\n",
        "l2=[[1,2,3],[1,2,3],[1,2,3]]\n",
        "l=[]\n",
        "def addd(l1,l2):\n",
        "  for i in range(len(l1)):\n",
        "    l.append([])\n",
        "    for j in range(len(l1)):\n",
        "      l[i].append(0)\n",
        "      l[i][j]=l1[i][j]+l1[i][j]\n",
        "  print(\"addition\",l)\n",
        "\n",
        "def trans(l1):\n",
        "  l=[]\n",
        "  i=0\n",
        "  j=0\n",
        "  for i in range(len(l1)):\n",
        "    l.append([])\n",
        "    for j in range(len(l1)):\n",
        "      l[i].append(0)     \n",
        "  for i in range(len(l1)):  \n",
        "    for j in range(len(l1)): \n",
        "      l[j][i]=l1[i][j]   \n",
        "  print(\"transpose\",l)\n",
        "\n",
        "def mull(l1,l2):\n",
        "  l=[]\n",
        "  for i in range(len(l1)):\n",
        "    l.append([])\n",
        "    for j in range(len(l1)):\n",
        "      l[i].append(0)\n",
        "  for i in range(len(l1)):\n",
        "    for j in range(len(l2)):\n",
        "      for k in range(len(l1)):\n",
        "        l[i][j]+=l1[i][k]*l2[k][j]     \n",
        "  print(\"multiplication\",l)  \n",
        "\n",
        "addd(l1,l2)\n",
        "mull(l1,l2)\n",
        "trans(l1)"
      ],
      "execution_count": null,
      "outputs": [
        {
          "output_type": "stream",
          "text": [
            "addition [[2, 8, 4], [10, 12, 16], [20, 4, 6]]\n",
            "multiplication [[7, 14, 21], [19, 38, 57], [15, 30, 45]]\n",
            "transpose [[1, 5, 10], [4, 6, 2], [2, 8, 3]]\n"
          ],
          "name": "stdout"
        }
      ]
    },
    {
      "cell_type": "markdown",
      "metadata": {
        "id": "Q3QJTdwRrdwk"
      },
      "source": [
        "#######################################################################################################"
      ]
    },
    {
      "cell_type": "markdown",
      "metadata": {
        "id": "efjBD4B1vOqj"
      },
      "source": [
        "WEEK12 GUI"
      ]
    },
    {
      "cell_type": "markdown",
      "metadata": {
        "id": "TNLZ80E-vTPh"
      },
      "source": [
        "Write a program to create a basic calculator using tkinter.\n"
      ]
    },
    {
      "cell_type": "markdown",
      "metadata": {
        "id": "sVkb_92XvfFM"
      },
      "source": [
        "ADDITIONAL PROGRAMS"
      ]
    },
    {
      "cell_type": "markdown",
      "metadata": {
        "id": "zH9214uuQztN"
      },
      "source": [
        "For GUI codes visit my ohter repo!!!\n",
        "\n",
        "https://github.com/naveenkarthikreddy/GUI-Tkinter"
      ]
    },
    {
      "cell_type": "markdown",
      "metadata": {
        "id": "nLDseQNLvhyZ"
      },
      "source": [
        "1. Write a program to check whether a given number has an even number of 1's in its \n",
        "binary representation (No control flow allowed).\n"
      ]
    },
    {
      "cell_type": "code",
      "metadata": {
        "id": "_aylnKz6vlVL"
      },
      "source": [
        ""
      ],
      "execution_count": null,
      "outputs": []
    },
    {
      "cell_type": "markdown",
      "metadata": {
        "id": "Nz0mx-FSvlh3"
      },
      "source": [
        "2. Write a program to implement user defined map() function."
      ]
    },
    {
      "cell_type": "code",
      "metadata": {
        "id": "JOePvSWQvlqh",
        "colab": {
          "base_uri": "https://localhost:8080/"
        },
        "outputId": "a362bc9e-fda7-43f8-c80c-65afcdda894d"
      },
      "source": [
        "def sqr(a):\n",
        "  return a*a\n",
        "l=[1,2,3,4,5]\n",
        "l=list(map(sqr,l))  \n",
        "print(l)\n"
      ],
      "execution_count": null,
      "outputs": [
        {
          "output_type": "stream",
          "text": [
            "[1, 4, 9, 16, 25]\n"
          ],
          "name": "stdout"
        }
      ]
    },
    {
      "cell_type": "markdown",
      "metadata": {
        "id": "RA3TxDCVvlxj"
      },
      "source": [
        "3. Write a program to return a list in which duplicates are removed and the items are \n",
        "sorted from a given input list of strings."
      ]
    },
    {
      "cell_type": "code",
      "metadata": {
        "id": "FTeVH_sTvl6M"
      },
      "source": [
        ""
      ],
      "execution_count": null,
      "outputs": []
    },
    {
      "cell_type": "markdown",
      "metadata": {
        "id": "ct9iui1YvmAs"
      },
      "source": [
        "4. Write a program to implement left binary search"
      ]
    },
    {
      "cell_type": "code",
      "metadata": {
        "id": "7eIvTzzivmIv"
      },
      "source": [
        ""
      ],
      "execution_count": null,
      "outputs": []
    },
    {
      "cell_type": "markdown",
      "metadata": {
        "id": "FWnVyccrvmP0"
      },
      "source": [
        "5. Write a program to change days to hours, hours to minutes, and minutes to seconds \n",
        "using currying of composition of function."
      ]
    },
    {
      "cell_type": "code",
      "metadata": {
        "id": "zspZlmjbvmXX"
      },
      "source": [
        ""
      ],
      "execution_count": null,
      "outputs": []
    },
    {
      "cell_type": "markdown",
      "metadata": {
        "id": "r3M1jnfivmem"
      },
      "source": [
        "6. Write a program to generate an infinite number of even numbers (Use generator)"
      ]
    },
    {
      "cell_type": "code",
      "metadata": {
        "id": "AMhy1ov3vmmY"
      },
      "source": [
        ""
      ],
      "execution_count": null,
      "outputs": []
    },
    {
      "cell_type": "markdown",
      "metadata": {
        "id": "Fz9Y4pqDvmst"
      },
      "source": [
        "7. Write a program to convert a given iterable into a list. (Using iterator)\n"
      ]
    },
    {
      "cell_type": "code",
      "metadata": {
        "id": "qei-IzDGvmzt"
      },
      "source": [
        ""
      ],
      "execution_count": null,
      "outputs": []
    },
    {
      "cell_type": "markdown",
      "metadata": {
        "id": "vKScLWsFwBeW"
      },
      "source": [
        "8. Write a program that accepts a sequence of whitespace separated words as input and \n",
        "printsthe words after removing all duplicate words and sorting themalphanumerically\n"
      ]
    },
    {
      "cell_type": "code",
      "metadata": {
        "id": "OXK-HZFBwDJK"
      },
      "source": [
        ""
      ],
      "execution_count": null,
      "outputs": []
    },
    {
      "cell_type": "markdown",
      "metadata": {
        "id": "kj5OVxZ6wDV-"
      },
      "source": [
        "9. Given a string and a number k, find the kth non-repeating character in the string. \n",
        "Consider a large input string with lakhs of characters and a small character set. How \n",
        "to find the character by only doing only one traversal of input string?\n",
        "\n",
        "e.g. input : str = hellopython k=3; output = y"
      ]
    },
    {
      "cell_type": "code",
      "metadata": {
        "id": "ZzUMNpY0wDfJ",
        "colab": {
          "base_uri": "https://localhost:8080/"
        },
        "outputId": "5112c32b-eb8d-4ae8-8efe-0c17b48bb861"
      },
      "source": [
        ""
      ],
      "execution_count": null,
      "outputs": [
        {
          "output_type": "stream",
          "text": [
            "Enter the start of range: 1\n",
            "Enter the end of range: 50\n",
            "650\n"
          ],
          "name": "stdout"
        }
      ]
    },
    {
      "cell_type": "markdown",
      "metadata": {
        "id": "07UG7ZIrwDnd"
      },
      "source": [
        "   10. To add 'ing' at the end of a given string (length should be at least 3). If the givenstring already ends with 'ing' then add 'ly' instead. If the string length of the \n",
        "given string is less than 3, leave it unchanged.\n",
        "e.g. input : 'abc' output : 'abcing' ; input : 'string' output : 'stringly'**bold text**"
      ]
    },
    {
      "cell_type": "code",
      "metadata": {
        "id": "0miwyxjVwDvQ"
      },
      "source": [
        ""
      ],
      "execution_count": null,
      "outputs": []
    }
  ]
}