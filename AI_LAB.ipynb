{
  "nbformat": 4,
  "nbformat_minor": 0,
  "metadata": {
    "colab": {
      "name": "AI_LAB.ipynb",
      "provenance": [],
      "authorship_tag": "ABX9TyNvQ1rd/bELnGSuc25gEMzD",
      "include_colab_link": true
    },
    "kernelspec": {
      "name": "python3",
      "display_name": "Python 3"
    },
    "language_info": {
      "name": "python"
    }
  },
  "cells": [
    {
      "cell_type": "markdown",
      "metadata": {
        "id": "view-in-github",
        "colab_type": "text"
      },
      "source": [
        "<a href=\"https://colab.research.google.com/github/tireless-22/4rthSemPythonLab/blob/main/AI_LAB.ipynb\" target=\"_parent\"><img src=\"https://colab.research.google.com/assets/colab-badge.svg\" alt=\"Open In Colab\"/></a>"
      ]
    },
    {
      "cell_type": "markdown",
      "source": [
        "AI LAB"
      ],
      "metadata": {
        "id": "AQNkoZ4d1BLZ"
      }
    },
    {
      "cell_type": "markdown",
      "source": [
        "WEEK1\n"
      ],
      "metadata": {
        "id": "J9KwFfMA1f8b"
      }
    },
    {
      "cell_type": "code",
      "source": [
        "import numpy as np\n",
        "\n",
        "import pandas as pd"
      ],
      "metadata": {
        "id": "WoYo7q7Y4LF2"
      },
      "execution_count": 20,
      "outputs": []
    },
    {
      "cell_type": "markdown",
      "source": [
        "a. To generate an array of random numbers from a normal distribution for the array of a\n",
        "given shape"
      ],
      "metadata": {
        "id": "g-beuKtq1jWE"
      }
    },
    {
      "cell_type": "code",
      "execution_count": 13,
      "metadata": {
        "colab": {
          "base_uri": "https://localhost:8080/"
        },
        "id": "SI0Dvu4fzoaK",
        "outputId": "0be12f3a-e82c-4a8e-c922-b519bee3b259"
      },
      "outputs": [
        {
          "output_type": "stream",
          "name": "stdout",
          "text": [
            "[37 32  3 82  8 66 39 40 77 74 82 80 28 14 92 73 74 98  2 31]\n"
          ]
        }
      ],
      "source": [
        "a=np.random.randint(1,100,20)\n",
        "# Here we generated 20 values in between the 1 and 100\n",
        "print(a)"
      ]
    },
    {
      "cell_type": "markdown",
      "source": [
        "b. Implement Arithmetic operations on two arrays (perform broadcasting also"
      ],
      "metadata": {
        "id": "A2_MagPd1p82"
      }
    },
    {
      "cell_type": "code",
      "source": [
        "normalList_a=[1,2,3,4]\n",
        "normalList_b=[5,6,7,8]\n",
        "# a is list here\n",
        "numpyArray_a=np.array(normalList_a)\n",
        "numpyArray_b=np.array(normalList_b)\n",
        "# print(type(numpyArray_a))\n",
        "\n",
        "# addition\n",
        "print(\"addition\")\n",
        "print(numpyArray_a+numpyArray_b)\n",
        "\n",
        "# substraction\n",
        "print(\"substraction\")\n",
        "print(numpyArray_a-numpyArray_b)\n",
        "\n",
        "# multiplication\n",
        "print(\"multiplication\")\n",
        "print(numpyArray_a*numpyArray_b)\n",
        "\n",
        "# division\n",
        "print(\"division\")\n",
        "print(numpyArray_a/numpyArray_b)\n",
        "\n"
      ],
      "metadata": {
        "colab": {
          "base_uri": "https://localhost:8080/"
        },
        "id": "ULLbGP6G1vfZ",
        "outputId": "54e9702a-c6dc-439b-f9ab-cd7556ba3ef2"
      },
      "execution_count": 8,
      "outputs": [
        {
          "output_type": "stream",
          "name": "stdout",
          "text": [
            "addition\n",
            "[ 6  8 10 12]\n",
            "substraction\n",
            "[-4 -4 -4 -4]\n",
            "multiplication\n",
            "[ 5 12 21 32]\n",
            "division\n",
            "[0.2        0.33333333 0.42857143 0.5       ]\n"
          ]
        }
      ]
    },
    {
      "cell_type": "markdown",
      "source": [
        "c Find minimum, maximum, mean in a given array. ( in both the axes )"
      ],
      "metadata": {
        "id": "CgwiUtTO10Ni"
      }
    },
    {
      "cell_type": "code",
      "source": [
        "a=np.random.randint(10,30,20)\n",
        "print(\"generated array\")\n",
        "print(a)\n",
        "print(\"minimum\")\n",
        "print(a.min())\n",
        "print(\"maximum\")\n",
        "print(a.max())\n",
        "print(\"mean\")\n",
        "print(a.mean())"
      ],
      "metadata": {
        "colab": {
          "base_uri": "https://localhost:8080/"
        },
        "id": "eNwxB5V012s3",
        "outputId": "cb705ec7-426b-4ad7-f58a-29babbd049dd"
      },
      "execution_count": 11,
      "outputs": [
        {
          "output_type": "stream",
          "name": "stdout",
          "text": [
            "[29 28 11 19 24 13 19 24 10 23 20 29 23 21 11 10 23 15 28 18]\n",
            "minimum\n",
            "10\n",
            "maximum\n",
            "29\n",
            "mean\n",
            "19.9\n"
          ]
        }
      ]
    },
    {
      "cell_type": "markdown",
      "source": [
        "d. Implement np.arange and np.linspace functions. "
      ],
      "metadata": {
        "id": "x-_F3m0v12_m"
      }
    },
    {
      "cell_type": "code",
      "source": [
        "# Arrange\n",
        "\n",
        "\n",
        "# first value is start and second is end\n",
        "# 3rd one is jump\n",
        "# 1st value is inclusive\n",
        "# 2nd value is exclusive\n",
        "a=np.arange(10)\n",
        "print(a)\n",
        "print()\n",
        "b=np.arange(1,51,2)\n",
        "print(b)"
      ],
      "metadata": {
        "colab": {
          "base_uri": "https://localhost:8080/"
        },
        "id": "BTtr4WG315y9",
        "outputId": "bbe01300-1f9f-4b4d-8487-42c65a630cfd"
      },
      "execution_count": 19,
      "outputs": [
        {
          "output_type": "stream",
          "name": "stdout",
          "text": [
            "[0 1 2 3 4 5 6 7 8 9]\n",
            "\n",
            "[ 1  3  5  7  9 11 13 15 17 19 21 23 25 27 29 31 33 35 37 39 41 43 45 47\n",
            " 49]\n"
          ]
        }
      ]
    },
    {
      "cell_type": "code",
      "source": [
        "# linespace\n",
        "\n",
        "# both the start and end are inclusive\n",
        "# first value is starting value and\n",
        "# second value is the ending value\n",
        "# third one is no of samples,but it is optional\n",
        "# defaultly it is set to 50 samples\n",
        "# to know the step of the values,find the difference between the consecutive values\n",
        "\n",
        "a=np.linspace(2,9)\n",
        "print(\"created array\")\n",
        "print(a)\n",
        "print()\n",
        "print(\"step in the array\")\n",
        "print(a[1]-a[0])\n"
      ],
      "metadata": {
        "colab": {
          "base_uri": "https://localhost:8080/"
        },
        "id": "c29whBXy7gRo",
        "outputId": "fff01228-4323-4ed2-f6e2-7d2ab1929922"
      },
      "execution_count": 17,
      "outputs": [
        {
          "output_type": "stream",
          "name": "stdout",
          "text": [
            "created array\n",
            "[2.         2.14285714 2.28571429 2.42857143 2.57142857 2.71428571\n",
            " 2.85714286 3.         3.14285714 3.28571429 3.42857143 3.57142857\n",
            " 3.71428571 3.85714286 4.         4.14285714 4.28571429 4.42857143\n",
            " 4.57142857 4.71428571 4.85714286 5.         5.14285714 5.28571429\n",
            " 5.42857143 5.57142857 5.71428571 5.85714286 6.         6.14285714\n",
            " 6.28571429 6.42857143 6.57142857 6.71428571 6.85714286 7.\n",
            " 7.14285714 7.28571429 7.42857143 7.57142857 7.71428571 7.85714286\n",
            " 8.         8.14285714 8.28571429 8.42857143 8.57142857 8.71428571\n",
            " 8.85714286 9.        ]\n",
            "\n",
            "step in the array\n",
            "0.1428571428571428\n"
          ]
        }
      ]
    },
    {
      "cell_type": "markdown",
      "source": [
        "e. Create a pandas series from a given list\n"
      ],
      "metadata": {
        "id": "jVUyu7oE197m"
      }
    },
    {
      "cell_type": "code",
      "source": [
        "normalList_a=np.linspace(2,9)\n",
        "\n",
        "numpyArray_a = pd.Series(normalList_a)\n",
        "\n",
        "print(numpyArray_a)"
      ],
      "metadata": {
        "colab": {
          "base_uri": "https://localhost:8080/"
        },
        "id": "-S-tU5V-2MIn",
        "outputId": "fa018dd5-7a68-49f3-cb3a-0dda3c4126bb"
      },
      "execution_count": 24,
      "outputs": [
        {
          "output_type": "stream",
          "name": "stdout",
          "text": [
            "0     2.000000\n",
            "1     2.142857\n",
            "2     2.285714\n",
            "3     2.428571\n",
            "4     2.571429\n",
            "5     2.714286\n",
            "6     2.857143\n",
            "7     3.000000\n",
            "8     3.142857\n",
            "9     3.285714\n",
            "10    3.428571\n",
            "11    3.571429\n",
            "12    3.714286\n",
            "13    3.857143\n",
            "14    4.000000\n",
            "15    4.142857\n",
            "16    4.285714\n",
            "17    4.428571\n",
            "18    4.571429\n",
            "19    4.714286\n",
            "20    4.857143\n",
            "21    5.000000\n",
            "22    5.142857\n",
            "23    5.285714\n",
            "24    5.428571\n",
            "25    5.571429\n",
            "26    5.714286\n",
            "27    5.857143\n",
            "28    6.000000\n",
            "29    6.142857\n",
            "30    6.285714\n",
            "31    6.428571\n",
            "32    6.571429\n",
            "33    6.714286\n",
            "34    6.857143\n",
            "35    7.000000\n",
            "36    7.142857\n",
            "37    7.285714\n",
            "38    7.428571\n",
            "39    7.571429\n",
            "40    7.714286\n",
            "41    7.857143\n",
            "42    8.000000\n",
            "43    8.142857\n",
            "44    8.285714\n",
            "45    8.428571\n",
            "46    8.571429\n",
            "47    8.714286\n",
            "48    8.857143\n",
            "49    9.000000\n",
            "dtype: float64\n"
          ]
        }
      ]
    },
    {
      "cell_type": "markdown",
      "source": [
        "f. Create pandas series with data and index and display the index values"
      ],
      "metadata": {
        "id": "mWxytZrG2I6R"
      }
    },
    {
      "cell_type": "code",
      "source": [
        "dff=pd.DataFrame()\n",
        "n=int(input(\"enter the no of columns\"))\n",
        "m=int(input(\"no of rows\"))\n",
        "\n",
        "lower_limit=int(input(\"enter_lower_limit\"))\n",
        "upper_limit=int(input(\"enter_right_limit\"))\n",
        "\n",
        "\n",
        "temp=65\n",
        "for i in range(m):\n",
        "  dff[chr(temp+i)]=np.random.randint(lower_limit,upper_limit,n)\n",
        "\n",
        "\n",
        "print(dff)"
      ],
      "metadata": {
        "colab": {
          "base_uri": "https://localhost:8080/"
        },
        "id": "rJ4NU9gAHSS4",
        "outputId": "9581a5f7-4753-4b29-9d34-1a051f4ccbe2"
      },
      "execution_count": 36,
      "outputs": [
        {
          "output_type": "stream",
          "name": "stdout",
          "text": [
            "enter the no of columns10\n",
            "no of rows10\n",
            "enter_lower_limit1\n",
            "enter_right_limit100\n",
            "    A   B   C   D   E   F   G   H   I   J\n",
            "0  25  41  50  46  64   9  48  97  81  46\n",
            "1  56  47  79  24  52   1  22  20   9  38\n",
            "2  82  33  37  83  93   5  43  93  56  68\n",
            "3  14  51  28  42  67  65  73  83   4  33\n",
            "4  79  59  93  19  73  31   4  10  65  43\n",
            "5   9  79  89  48  96  95  11  82  70  34\n",
            "6  74  70  90  56  63  81  44  83  24  90\n",
            "7  21  53   9  50  11  82  30  82  48  68\n",
            "8  48  84  18  47  23  61  93  57  75  71\n",
            "9  47  95  84  98  36  96  99  44  27  80\n"
          ]
        }
      ]
    },
    {
      "cell_type": "markdown",
      "source": [
        "g. Create a data frame with columns at least 5 observations\n",
        "\n",
        "i. Select a particular column from the DataFrame\n",
        "\n",
        "ii. Summarize the data frame and observe the stats of the DataFrame created\n",
        "\n",
        "iii. Observe the mean and standard deviation of the data frame and print the values. \n"
      ],
      "metadata": {
        "id": "Cc4iAZne2Mb5"
      }
    },
    {
      "cell_type": "code",
      "source": [
        "# use that dff here\n",
        "\n",
        "randColIndex=np.random.randint(0,n)\n",
        "print(\"picked random column number\",randColIndex)\n",
        "print()\n",
        "\n",
        "print(\"printing that picked random column\")\n",
        "\n",
        "print(dff[chr(65+randColIndex)])\n",
        "\n"
      ],
      "metadata": {
        "colab": {
          "base_uri": "https://localhost:8080/"
        },
        "id": "deEjSVeTDOzc",
        "outputId": "a2b8fe86-711b-463f-d007-c2657f55dd90"
      },
      "execution_count": 51,
      "outputs": [
        {
          "output_type": "stream",
          "name": "stdout",
          "text": [
            "picked random column number 9\n",
            "\n",
            "printing that picked random column\n",
            "0    46\n",
            "1    38\n",
            "2    68\n",
            "3    33\n",
            "4    43\n",
            "5    34\n",
            "6    90\n",
            "7    68\n",
            "8    71\n",
            "9    80\n",
            "Name: J, dtype: int64\n"
          ]
        }
      ]
    },
    {
      "cell_type": "code",
      "source": [
        "print(\"description about the data that we have\")\n",
        "print()\n",
        "\n",
        "print(dff.describe())"
      ],
      "metadata": {
        "colab": {
          "base_uri": "https://localhost:8080/"
        },
        "id": "M50PVx4f2QHs",
        "outputId": "35edbaf5-2fc3-4d1e-83a0-1abbc386f8eb"
      },
      "execution_count": 49,
      "outputs": [
        {
          "output_type": "stream",
          "name": "stdout",
          "text": [
            "description about the data that we have\n",
            "\n",
            "               A          B          C          D          E          F  \\\n",
            "count  10.000000  10.000000  10.000000  10.000000  10.000000  10.000000   \n",
            "mean   45.500000  61.200000  57.700000  51.300000  57.800000  52.600000   \n",
            "std    27.346542  20.104173  32.883802  23.902812  27.867943  37.818867   \n",
            "min     9.000000  33.000000   9.000000  19.000000  11.000000   1.000000   \n",
            "25%    22.000000  48.000000  30.250000  43.000000  40.000000  14.500000   \n",
            "50%    47.500000  56.000000  64.500000  47.500000  63.500000  63.000000   \n",
            "75%    69.500000  76.750000  87.750000  54.500000  71.500000  81.750000   \n",
            "max    82.000000  95.000000  93.000000  98.000000  96.000000  96.000000   \n",
            "\n",
            "               G          H          I          J  \n",
            "count  10.000000  10.000000  10.000000  10.000000  \n",
            "mean   46.700000  65.100000  45.900000  57.100000  \n",
            "std    32.625995  30.892106  28.057283  20.652952  \n",
            "min     4.000000  10.000000   4.000000  33.000000  \n",
            "25%    24.000000  47.250000  24.750000  39.250000  \n",
            "50%    43.500000  82.000000  52.000000  57.000000  \n",
            "75%    66.750000  83.000000  68.750000  70.250000  \n",
            "max    99.000000  97.000000  81.000000  90.000000  \n"
          ]
        }
      ]
    },
    {
      "cell_type": "code",
      "source": [
        ""
      ],
      "metadata": {
        "id": "ACJq8MDFMgq8"
      },
      "execution_count": null,
      "outputs": []
    },
    {
      "cell_type": "code",
      "source": [
        "print(\"printing means\")\n",
        "print()\n",
        "print()\n",
        "print(dff.mean())"
      ],
      "metadata": {
        "colab": {
          "base_uri": "https://localhost:8080/"
        },
        "id": "JAkk1ZRBMVTz",
        "outputId": "619a515a-769f-489c-e128-8dddb0487901"
      },
      "execution_count": 50,
      "outputs": [
        {
          "output_type": "stream",
          "name": "stdout",
          "text": [
            "printing means\n",
            "\n",
            "\n",
            "A    45.5\n",
            "B    61.2\n",
            "C    57.7\n",
            "D    51.3\n",
            "E    57.8\n",
            "F    52.6\n",
            "G    46.7\n",
            "H    65.1\n",
            "I    45.9\n",
            "J    57.1\n",
            "dtype: float64\n"
          ]
        }
      ]
    }
  ]
}