{
  "nbformat": 4,
  "nbformat_minor": 0,
  "metadata": {
    "colab": {
      "name": "AI_LAB.ipynb",
      "provenance": [],
      "authorship_tag": "ABX9TyOLjIDs7jRrcxkPoR3YFTtV",
      "include_colab_link": true
    },
    "kernelspec": {
      "name": "python3",
      "display_name": "Python 3"
    },
    "language_info": {
      "name": "python"
    }
  },
  "cells": [
    {
      "cell_type": "markdown",
      "metadata": {
        "id": "view-in-github",
        "colab_type": "text"
      },
      "source": [
        "<a href=\"https://colab.research.google.com/github/tireless-22/4rthSemPythonLab/blob/main/AI_LAB.ipynb\" target=\"_parent\"><img src=\"https://colab.research.google.com/assets/colab-badge.svg\" alt=\"Open In Colab\"/></a>"
      ]
    },
    {
      "cell_type": "markdown",
      "source": [
        "AI LAB"
      ],
      "metadata": {
        "id": "AQNkoZ4d1BLZ"
      }
    },
    {
      "cell_type": "markdown",
      "source": [
        "WEEK1\n"
      ],
      "metadata": {
        "id": "J9KwFfMA1f8b"
      }
    },
    {
      "cell_type": "markdown",
      "source": [
        "a. To generate an array of random numbers from a normal distribution for the array of a\n",
        "given shape"
      ],
      "metadata": {
        "id": "g-beuKtq1jWE"
      }
    },
    {
      "cell_type": "code",
      "execution_count": 2,
      "metadata": {
        "colab": {
          "base_uri": "https://localhost:8080/"
        },
        "id": "SI0Dvu4fzoaK",
        "outputId": "9e6bd5d9-27ff-43e1-e67c-537e51b21d7e"
      },
      "outputs": [
        {
          "output_type": "stream",
          "name": "stdout",
          "text": [
            "HELLO\n"
          ]
        }
      ],
      "source": [
        ""
      ]
    },
    {
      "cell_type": "markdown",
      "source": [
        "b. Implement Arithmetic operations on two arrays (perform broadcasting also"
      ],
      "metadata": {
        "id": "A2_MagPd1p82"
      }
    },
    {
      "cell_type": "code",
      "source": [
        ""
      ],
      "metadata": {
        "id": "ULLbGP6G1vfZ"
      },
      "execution_count": null,
      "outputs": []
    },
    {
      "cell_type": "markdown",
      "source": [
        "c Find minimum, maximum, mean in a given array. ( in both the axes )"
      ],
      "metadata": {
        "id": "CgwiUtTO10Ni"
      }
    },
    {
      "cell_type": "code",
      "source": [
        ""
      ],
      "metadata": {
        "id": "eNwxB5V012s3"
      },
      "execution_count": null,
      "outputs": []
    },
    {
      "cell_type": "markdown",
      "source": [
        "d. Implement np.arange and np.linspace functions. "
      ],
      "metadata": {
        "id": "x-_F3m0v12_m"
      }
    },
    {
      "cell_type": "code",
      "source": [
        ""
      ],
      "metadata": {
        "id": "BTtr4WG315y9"
      },
      "execution_count": null,
      "outputs": []
    },
    {
      "cell_type": "markdown",
      "source": [
        "e. Create a pandas series from a given list\n"
      ],
      "metadata": {
        "id": "jVUyu7oE197m"
      }
    },
    {
      "cell_type": "code",
      "source": [
        ""
      ],
      "metadata": {
        "id": "QwXTBVtD2IoS"
      },
      "execution_count": null,
      "outputs": []
    },
    {
      "cell_type": "markdown",
      "source": [
        "f. Create pandas series with data and index and display the index values"
      ],
      "metadata": {
        "id": "mWxytZrG2I6R"
      }
    },
    {
      "cell_type": "code",
      "source": [
        ""
      ],
      "metadata": {
        "id": "-S-tU5V-2MIn"
      },
      "execution_count": null,
      "outputs": []
    },
    {
      "cell_type": "markdown",
      "source": [
        "g. Create a data frame with columns at least 5 observations\n",
        "i. Select a particular column from the DataFrame\n",
        "ii. Summarize the data frame and observe the stats of the DataFrame created\n",
        "iii. Observe the mean and standard deviation of the data frame and print the values. \n"
      ],
      "metadata": {
        "id": "Cc4iAZne2Mb5"
      }
    },
    {
      "cell_type": "code",
      "source": [
        ""
      ],
      "metadata": {
        "id": "M50PVx4f2QHs"
      },
      "execution_count": null,
      "outputs": []
    }
  ]
}