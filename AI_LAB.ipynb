{
  "nbformat": 4,
  "nbformat_minor": 0,
  "metadata": {
    "colab": {
      "name": "AI_LAB.ipynb",
      "provenance": [],
      "authorship_tag": "ABX9TyP5c61v/VV8SyGOvdfWk0Q8",
      "include_colab_link": true
    },
    "kernelspec": {
      "name": "python3",
      "display_name": "Python 3"
    },
    "language_info": {
      "name": "python"
    }
  },
  "cells": [
    {
      "cell_type": "markdown",
      "metadata": {
        "id": "view-in-github",
        "colab_type": "text"
      },
      "source": [
        "<a href=\"https://colab.research.google.com/github/tireless-22/4rthSemPythonLab/blob/main/AI_LAB.ipynb\" target=\"_parent\"><img src=\"https://colab.research.google.com/assets/colab-badge.svg\" alt=\"Open In Colab\"/></a>"
      ]
    },
    {
      "cell_type": "markdown",
      "source": [
        "AI LAB"
      ],
      "metadata": {
        "id": "AQNkoZ4d1BLZ"
      }
    },
    {
      "cell_type": "markdown",
      "source": [
        "WEEK1\n"
      ],
      "metadata": {
        "id": "J9KwFfMA1f8b"
      }
    },
    {
      "cell_type": "code",
      "source": [
        "import numpy as np\n",
        "# imported numpy as np"
      ],
      "metadata": {
        "id": "WoYo7q7Y4LF2"
      },
      "execution_count": 3,
      "outputs": []
    },
    {
      "cell_type": "markdown",
      "source": [
        "a. To generate an array of random numbers from a normal distribution for the array of a\n",
        "given shape"
      ],
      "metadata": {
        "id": "g-beuKtq1jWE"
      }
    },
    {
      "cell_type": "code",
      "execution_count": 13,
      "metadata": {
        "colab": {
          "base_uri": "https://localhost:8080/"
        },
        "id": "SI0Dvu4fzoaK",
        "outputId": "0be12f3a-e82c-4a8e-c922-b519bee3b259"
      },
      "outputs": [
        {
          "output_type": "stream",
          "name": "stdout",
          "text": [
            "[37 32  3 82  8 66 39 40 77 74 82 80 28 14 92 73 74 98  2 31]\n"
          ]
        }
      ],
      "source": [
        "a=np.random.randint(1,100,20)\n",
        "# Here we generated 20 values in between the 1 and 100\n",
        "print(a)"
      ]
    },
    {
      "cell_type": "markdown",
      "source": [
        "b. Implement Arithmetic operations on two arrays (perform broadcasting also"
      ],
      "metadata": {
        "id": "A2_MagPd1p82"
      }
    },
    {
      "cell_type": "code",
      "source": [
        "normalList_a=[1,2,3,4]\n",
        "normalList_b=[5,6,7,8]\n",
        "# a is list here\n",
        "numpyArray_a=np.array(normalList_a)\n",
        "numpyArray_b=np.array(normalList_b)\n",
        "# print(type(numpyArray_a))\n",
        "\n",
        "# addition\n",
        "print(\"addition\")\n",
        "print(numpyArray_a+numpyArray_b)\n",
        "\n",
        "# substraction\n",
        "print(\"substraction\")\n",
        "print(numpyArray_a-numpyArray_b)\n",
        "\n",
        "# multiplication\n",
        "print(\"multiplication\")\n",
        "print(numpyArray_a*numpyArray_b)\n",
        "\n",
        "# division\n",
        "print(\"division\")\n",
        "print(numpyArray_a/numpyArray_b)\n",
        "\n"
      ],
      "metadata": {
        "colab": {
          "base_uri": "https://localhost:8080/"
        },
        "id": "ULLbGP6G1vfZ",
        "outputId": "54e9702a-c6dc-439b-f9ab-cd7556ba3ef2"
      },
      "execution_count": 8,
      "outputs": [
        {
          "output_type": "stream",
          "name": "stdout",
          "text": [
            "addition\n",
            "[ 6  8 10 12]\n",
            "substraction\n",
            "[-4 -4 -4 -4]\n",
            "multiplication\n",
            "[ 5 12 21 32]\n",
            "division\n",
            "[0.2        0.33333333 0.42857143 0.5       ]\n"
          ]
        }
      ]
    },
    {
      "cell_type": "markdown",
      "source": [
        "c Find minimum, maximum, mean in a given array. ( in both the axes )"
      ],
      "metadata": {
        "id": "CgwiUtTO10Ni"
      }
    },
    {
      "cell_type": "code",
      "source": [
        "a=np.random.randint(10,30,20)\n",
        "print(\"generated array\")\n",
        "print(a)\n",
        "print(\"minimum\")\n",
        "print(a.min())\n",
        "print(\"maximum\")\n",
        "print(a.max())\n",
        "print(\"mean\")\n",
        "print(a.mean())"
      ],
      "metadata": {
        "colab": {
          "base_uri": "https://localhost:8080/"
        },
        "id": "eNwxB5V012s3",
        "outputId": "cb705ec7-426b-4ad7-f58a-29babbd049dd"
      },
      "execution_count": 11,
      "outputs": [
        {
          "output_type": "stream",
          "name": "stdout",
          "text": [
            "[29 28 11 19 24 13 19 24 10 23 20 29 23 21 11 10 23 15 28 18]\n",
            "minimum\n",
            "10\n",
            "maximum\n",
            "29\n",
            "mean\n",
            "19.9\n"
          ]
        }
      ]
    },
    {
      "cell_type": "markdown",
      "source": [
        "d. Implement np.arange and np.linspace functions. "
      ],
      "metadata": {
        "id": "x-_F3m0v12_m"
      }
    },
    {
      "cell_type": "code",
      "source": [
        "# Arrange\n",
        "\n",
        "\n",
        "# first value is start and second is end\n",
        "# 3rd one is jump\n",
        "# 1st value is inclusive\n",
        "# 2nd value is exclusive\n",
        "a=np.arange(10)\n",
        "print(a)\n",
        "b=np.arange(1,51,2)\n",
        "print(b)"
      ],
      "metadata": {
        "id": "BTtr4WG315y9"
      },
      "execution_count": null,
      "outputs": []
    },
    {
      "cell_type": "code",
      "source": [
        "# linespace\n",
        "\n",
        "# both the start and end are inclusive\n",
        "# first value is starting value and\n",
        "# second value is the ending value\n",
        "# third one is no of samples,but it is optional\n",
        "# defaultly it is set to 50 samples\n",
        "# to know the step of the values,find the difference between the consecutive values\n",
        "\n",
        "a=np.linspace(2,9)\n",
        "print(\"created array\")\n",
        "print(a)\n",
        "print()\n",
        "print(\"step in the array\")\n",
        "print(a[1]-a[0])\n"
      ],
      "metadata": {
        "colab": {
          "base_uri": "https://localhost:8080/"
        },
        "id": "c29whBXy7gRo",
        "outputId": "fff01228-4323-4ed2-f6e2-7d2ab1929922"
      },
      "execution_count": 17,
      "outputs": [
        {
          "output_type": "stream",
          "name": "stdout",
          "text": [
            "created array\n",
            "[2.         2.14285714 2.28571429 2.42857143 2.57142857 2.71428571\n",
            " 2.85714286 3.         3.14285714 3.28571429 3.42857143 3.57142857\n",
            " 3.71428571 3.85714286 4.         4.14285714 4.28571429 4.42857143\n",
            " 4.57142857 4.71428571 4.85714286 5.         5.14285714 5.28571429\n",
            " 5.42857143 5.57142857 5.71428571 5.85714286 6.         6.14285714\n",
            " 6.28571429 6.42857143 6.57142857 6.71428571 6.85714286 7.\n",
            " 7.14285714 7.28571429 7.42857143 7.57142857 7.71428571 7.85714286\n",
            " 8.         8.14285714 8.28571429 8.42857143 8.57142857 8.71428571\n",
            " 8.85714286 9.        ]\n",
            "\n",
            "step in the array\n",
            "0.1428571428571428\n"
          ]
        }
      ]
    },
    {
      "cell_type": "markdown",
      "source": [
        "e. Create a pandas series from a given list\n"
      ],
      "metadata": {
        "id": "jVUyu7oE197m"
      }
    },
    {
      "cell_type": "code",
      "source": [
        ""
      ],
      "metadata": {
        "id": "QwXTBVtD2IoS"
      },
      "execution_count": null,
      "outputs": []
    },
    {
      "cell_type": "markdown",
      "source": [
        "f. Create pandas series with data and index and display the index values"
      ],
      "metadata": {
        "id": "mWxytZrG2I6R"
      }
    },
    {
      "cell_type": "code",
      "source": [
        ""
      ],
      "metadata": {
        "id": "-S-tU5V-2MIn"
      },
      "execution_count": null,
      "outputs": []
    },
    {
      "cell_type": "markdown",
      "source": [
        "g. Create a data frame with columns at least 5 observations\n",
        "i. Select a particular column from the DataFrame\n",
        "ii. Summarize the data frame and observe the stats of the DataFrame created\n",
        "iii. Observe the mean and standard deviation of the data frame and print the values. \n"
      ],
      "metadata": {
        "id": "Cc4iAZne2Mb5"
      }
    },
    {
      "cell_type": "code",
      "source": [
        ""
      ],
      "metadata": {
        "id": "M50PVx4f2QHs"
      },
      "execution_count": null,
      "outputs": []
    }
  ]
}